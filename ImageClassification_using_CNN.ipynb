{
  "nbformat": 4,
  "nbformat_minor": 0,
  "metadata": {
    "colab": {
      "provenance": [],
      "gpuType": "T4",
      "mount_file_id": "1za0kE8YQh7QF6KhFcb0g-flBw7i7SGDg",
      "authorship_tag": "ABX9TyMuppnUABbPesTddMFh4hbQ",
      "include_colab_link": true
    },
    "kernelspec": {
      "name": "python3",
      "display_name": "Python 3"
    },
    "language_info": {
      "name": "python"
    },
    "accelerator": "GPU"
  },
  "cells": [
    {
      "cell_type": "markdown",
      "metadata": {
        "id": "view-in-github",
        "colab_type": "text"
      },
      "source": [
        "<a href=\"https://colab.research.google.com/github/SwethaNandyala/DeepLearning/blob/main/ImageClassification_using_CNN.ipynb\" target=\"_parent\"><img src=\"https://colab.research.google.com/assets/colab-badge.svg\" alt=\"Open In Colab\"/></a>"
      ]
    },
    {
      "cell_type": "code",
      "source": [
        "#!pip install kaggle"
      ],
      "metadata": {
        "colab": {
          "base_uri": "https://localhost:8080/"
        },
        "id": "vfCimtzAhJj2",
        "outputId": "1fdbdc94-d844-4859-e8c4-996d889a22a9"
      },
      "execution_count": null,
      "outputs": [
        {
          "output_type": "stream",
          "name": "stdout",
          "text": [
            "Requirement already satisfied: kaggle in /usr/local/lib/python3.10/dist-packages (1.5.15)\n",
            "Requirement already satisfied: six>=1.10 in /usr/local/lib/python3.10/dist-packages (from kaggle) (1.16.0)\n",
            "Requirement already satisfied: certifi in /usr/local/lib/python3.10/dist-packages (from kaggle) (2023.5.7)\n",
            "Requirement already satisfied: python-dateutil in /usr/local/lib/python3.10/dist-packages (from kaggle) (2.8.2)\n",
            "Requirement already satisfied: requests in /usr/local/lib/python3.10/dist-packages (from kaggle) (2.27.1)\n",
            "Requirement already satisfied: tqdm in /usr/local/lib/python3.10/dist-packages (from kaggle) (4.65.0)\n",
            "Requirement already satisfied: python-slugify in /usr/local/lib/python3.10/dist-packages (from kaggle) (8.0.1)\n",
            "Requirement already satisfied: urllib3 in /usr/local/lib/python3.10/dist-packages (from kaggle) (1.26.16)\n",
            "Requirement already satisfied: bleach in /usr/local/lib/python3.10/dist-packages (from kaggle) (6.0.0)\n",
            "Requirement already satisfied: webencodings in /usr/local/lib/python3.10/dist-packages (from bleach->kaggle) (0.5.1)\n",
            "Requirement already satisfied: text-unidecode>=1.3 in /usr/local/lib/python3.10/dist-packages (from python-slugify->kaggle) (1.3)\n",
            "Requirement already satisfied: charset-normalizer~=2.0.0 in /usr/local/lib/python3.10/dist-packages (from requests->kaggle) (2.0.12)\n",
            "Requirement already satisfied: idna<4,>=2.5 in /usr/local/lib/python3.10/dist-packages (from requests->kaggle) (3.4)\n"
          ]
        }
      ]
    },
    {
      "cell_type": "code",
      "source": [
        "from google.colab import drive\n",
        "drive.mount('/content/drive')"
      ],
      "metadata": {
        "colab": {
          "base_uri": "https://localhost:8080/"
        },
        "id": "4pnxusfOiUG-",
        "outputId": "91632648-42c9-4875-9394-b6e86d005d22"
      },
      "execution_count": 1,
      "outputs": [
        {
          "output_type": "stream",
          "name": "stdout",
          "text": [
            "Drive already mounted at /content/drive; to attempt to forcibly remount, call drive.mount(\"/content/drive\", force_remount=True).\n"
          ]
        }
      ]
    },
    {
      "cell_type": "markdown",
      "source": [
        "# Import Dataset from Kaggle"
      ],
      "metadata": {
        "id": "UthzEbO9kKdi"
      }
    },
    {
      "cell_type": "code",
      "source": [
        "!mkdir ~/.kaggle"
      ],
      "metadata": {
        "id": "4-5wAarHjAbM"
      },
      "execution_count": 2,
      "outputs": []
    },
    {
      "cell_type": "code",
      "source": [
        "!cp /content/drive/MyDrive/kaggle.json ~/.kaggle/kaggle.json"
      ],
      "metadata": {
        "id": "0jo3fY9pjNa1"
      },
      "execution_count": 3,
      "outputs": []
    },
    {
      "cell_type": "code",
      "source": [
        "! chmod 600 ~/.kaggle/kaggle.json"
      ],
      "metadata": {
        "id": "5z5N1u8Tjnqr"
      },
      "execution_count": 4,
      "outputs": []
    },
    {
      "cell_type": "code",
      "source": [
        "! kaggle datasets download -d salader/dogs-vs-cats"
      ],
      "metadata": {
        "id": "Uv_1263mj2ga",
        "colab": {
          "base_uri": "https://localhost:8080/"
        },
        "outputId": "6dc0af30-8343-4dff-c32e-569ccafc996c"
      },
      "execution_count": 5,
      "outputs": [
        {
          "output_type": "stream",
          "name": "stdout",
          "text": [
            "Downloading dogs-vs-cats.zip to /content\n",
            "100% 1.06G/1.06G [00:52<00:00, 24.0MB/s]\n",
            "100% 1.06G/1.06G [00:52<00:00, 21.8MB/s]\n"
          ]
        }
      ]
    },
    {
      "cell_type": "code",
      "source": [
        "from zipfile import ZipFile\n",
        "with ZipFile(\"/content/dogs-vs-cats.zip\",'r')as zipobj:\n",
        "  zipobj.extractall('/content/dogs-vs-cats')"
      ],
      "metadata": {
        "id": "SSUcmgS0LbSd"
      },
      "execution_count": 6,
      "outputs": []
    },
    {
      "cell_type": "markdown",
      "source": [
        "# Load Dataset from directory"
      ],
      "metadata": {
        "id": "PbQAGQ31TsBn"
      }
    },
    {
      "cell_type": "code",
      "source": [
        "import tensorflow as tf\n",
        "from tensorflow import keras"
      ],
      "metadata": {
        "id": "pgbwsbHbQvmn"
      },
      "execution_count": 7,
      "outputs": []
    },
    {
      "cell_type": "code",
      "source": [
        "#image_dataset_from_directory\n",
        "#is  a generator it loads the dataset from the directory in the form of batches.\n",
        "#each batch consists of images specified in the batch size"
      ],
      "metadata": {
        "id": "8z-IJWpFTotf"
      },
      "execution_count": null,
      "outputs": []
    },
    {
      "cell_type": "code",
      "source": [
        "train_data_set = keras.utils.image_dataset_from_directory(\n",
        "    directory='/content/dogs-vs-cats/train',\n",
        "    labels='inferred',\n",
        "    label_mode='int',\n",
        "    batch_size=64,seed=20,image_size=(150,150),validation_split=0.25,subset=\"both\")"
      ],
      "metadata": {
        "colab": {
          "base_uri": "https://localhost:8080/"
        },
        "id": "blQWV23KQ5cg",
        "outputId": "841fb9ba-b515-471e-ea69-ca4b57621eb3"
      },
      "execution_count": 8,
      "outputs": [
        {
          "output_type": "stream",
          "name": "stdout",
          "text": [
            "Found 20000 files belonging to 2 classes.\n",
            "Using 15000 files for training.\n",
            "Using 5000 files for validation.\n"
          ]
        }
      ]
    },
    {
      "cell_type": "code",
      "source": [
        "test_data_set = keras.utils.image_dataset_from_directory(\n",
        "    directory='/content/dogs-vs-cats/test',\n",
        "    labels='inferred',\n",
        "    label_mode='int',\n",
        "    batch_size=64,seed=20,image_size=(150,150))"
      ],
      "metadata": {
        "colab": {
          "base_uri": "https://localhost:8080/"
        },
        "id": "uAt6ZPPqS5JN",
        "outputId": "a3cbd507-3240-41b8-ab35-1f5a21464097"
      },
      "execution_count": 9,
      "outputs": [
        {
          "output_type": "stream",
          "name": "stdout",
          "text": [
            "Found 5000 files belonging to 2 classes.\n"
          ]
        }
      ]
    },
    {
      "cell_type": "markdown",
      "source": [
        "# Normalise the data"
      ],
      "metadata": {
        "id": "WB7r3FzyTxWP"
      }
    },
    {
      "cell_type": "code",
      "source": [
        "#Normalization\n",
        "def preprocessing_imgs(img, label):\n",
        "    image = tf.cast(img/255.,tf.float32)\n",
        "    return img, label"
      ],
      "metadata": {
        "id": "LEqua9YiTenA"
      },
      "execution_count": 10,
      "outputs": []
    },
    {
      "cell_type": "code",
      "source": [
        "train_ds=train_data_set[0].map(preprocessing_imgs)\n",
        "valid_ds=train_data_set[1].map(preprocessing_imgs)"
      ],
      "metadata": {
        "id": "F8Qaue11T0ZU"
      },
      "execution_count": 11,
      "outputs": []
    },
    {
      "cell_type": "code",
      "source": [
        "test_ds = test_data_set.map(preprocessing_imgs)"
      ],
      "metadata": {
        "id": "yGvwNWOFX7jA"
      },
      "execution_count": 12,
      "outputs": []
    },
    {
      "cell_type": "markdown",
      "source": [
        "# Create a CNN Model\n"
      ],
      "metadata": {
        "id": "T0hAmIgCdA0B"
      }
    },
    {
      "cell_type": "code",
      "source": [
        "from keras.models import Sequential,load_model\n",
        "from keras.layers import Conv2D,MaxPooling2D,Flatten,Dense,Dropout"
      ],
      "metadata": {
        "id": "1_L_w2oKcxx6"
      },
      "execution_count": 70,
      "outputs": []
    },
    {
      "cell_type": "code",
      "source": [
        "from keras.backend import dropout\n",
        "cnn_model = Sequential()\n",
        "cnn_model.add(Conv2D(filters = 128, kernel_size=(3,3),kernel_initializer='he_uniform',padding='same',activation='relu',input_shape=(150,150,3)))\n",
        "cnn_model.add(MaxPooling2D(pool_size=(2,2),padding='valid'))\n",
        "cnn_model.add(Dropout(0.1))\n",
        "\n",
        "cnn_model.add(Conv2D(filters = 64, kernel_size=(3,3),kernel_initializer='he_uniform',padding='same',activation='relu',input_shape=(150,150,3)))\n",
        "cnn_model.add(MaxPooling2D(pool_size=(2,2),padding='valid'))\n",
        "cnn_model.add(Dropout(0.1))\n",
        "\n",
        "cnn_model.add(Conv2D(filters = 64, kernel_size=(3,3),kernel_initializer='he_uniform',padding='same',activation='relu',input_shape=(150,150,3)))\n",
        "cnn_model.add(MaxPooling2D(pool_size=(2,2),padding='valid'))\n",
        "cnn_model.add(Dropout(0.1))\n",
        "\n",
        "cnn_model.add(Flatten())\n",
        "\n",
        "cnn_model.add(Dense(units=128,activation='relu',kernel_initializer='he_uniform'))\n",
        "cnn_model.add(Dense(units=64,activation='relu',kernel_initializer='he_uniform'))\n",
        "cnn_model.add(Dense(units=32,activation='relu',kernel_initializer='he_uniform'))\n",
        "cnn_model.add(Dense(units=1,activation='sigmoid',kernel_initializer='glorot_uniform'))\n",
        "\n",
        "cnn_model.summary()\n"
      ],
      "metadata": {
        "colab": {
          "base_uri": "https://localhost:8080/"
        },
        "id": "p3aMYEJPddrZ",
        "outputId": "82277a53-ff1d-4de7-dcb8-655f0dc966ea"
      },
      "execution_count": 54,
      "outputs": [
        {
          "output_type": "stream",
          "name": "stdout",
          "text": [
            "Model: \"sequential_4\"\n",
            "_________________________________________________________________\n",
            " Layer (type)                Output Shape              Param #   \n",
            "=================================================================\n",
            " conv2d_10 (Conv2D)          (None, 150, 150, 128)     3584      \n",
            "                                                                 \n",
            " max_pooling2d_10 (MaxPoolin  (None, 75, 75, 128)      0         \n",
            " g2D)                                                            \n",
            "                                                                 \n",
            " dropout_6 (Dropout)         (None, 75, 75, 128)       0         \n",
            "                                                                 \n",
            " conv2d_11 (Conv2D)          (None, 75, 75, 64)        73792     \n",
            "                                                                 \n",
            " max_pooling2d_11 (MaxPoolin  (None, 37, 37, 64)       0         \n",
            " g2D)                                                            \n",
            "                                                                 \n",
            " dropout_7 (Dropout)         (None, 37, 37, 64)        0         \n",
            "                                                                 \n",
            " conv2d_12 (Conv2D)          (None, 37, 37, 64)        36928     \n",
            "                                                                 \n",
            " max_pooling2d_12 (MaxPoolin  (None, 18, 18, 64)       0         \n",
            " g2D)                                                            \n",
            "                                                                 \n",
            " dropout_8 (Dropout)         (None, 18, 18, 64)        0         \n",
            "                                                                 \n",
            " flatten_3 (Flatten)         (None, 20736)             0         \n",
            "                                                                 \n",
            " dense_9 (Dense)             (None, 128)               2654336   \n",
            "                                                                 \n",
            " dense_10 (Dense)            (None, 64)                8256      \n",
            "                                                                 \n",
            " dense_11 (Dense)            (None, 32)                2080      \n",
            "                                                                 \n",
            " dense_12 (Dense)            (None, 1)                 33        \n",
            "                                                                 \n",
            "=================================================================\n",
            "Total params: 2,779,009\n",
            "Trainable params: 2,779,009\n",
            "Non-trainable params: 0\n",
            "_________________________________________________________________\n"
          ]
        }
      ]
    },
    {
      "cell_type": "code",
      "source": [
        "cnn_model.compile(optimizer=tf.keras.optimizers.Adam(learning_rate=0.001),loss='binary_crossentropy',metrics=['accuracy'])"
      ],
      "metadata": {
        "id": "GUs8keTmgxvE"
      },
      "execution_count": 55,
      "outputs": []
    },
    {
      "cell_type": "code",
      "source": [
        "model_history = cnn_model.fit(train_ds,epochs=30,validation_data=valid_ds)"
      ],
      "metadata": {
        "colab": {
          "base_uri": "https://localhost:8080/"
        },
        "id": "D87obdxDgzly",
        "outputId": "22f1b857-d16c-4d7f-e78f-117b1698314c"
      },
      "execution_count": 56,
      "outputs": [
        {
          "output_type": "stream",
          "name": "stdout",
          "text": [
            "Epoch 1/30\n",
            "235/235 [==============================] - 58s 232ms/step - loss: 17.0024 - accuracy: 0.5082 - val_loss: 0.6933 - val_accuracy: 0.4978\n",
            "Epoch 2/30\n",
            "235/235 [==============================] - 59s 249ms/step - loss: 0.7004 - accuracy: 0.5291 - val_loss: 0.6911 - val_accuracy: 0.4966\n",
            "Epoch 3/30\n",
            "235/235 [==============================] - 54s 229ms/step - loss: 0.6930 - accuracy: 0.5343 - val_loss: 0.6911 - val_accuracy: 0.4958\n",
            "Epoch 4/30\n",
            "235/235 [==============================] - 55s 231ms/step - loss: 0.6842 - accuracy: 0.5465 - val_loss: 0.6886 - val_accuracy: 0.5080\n",
            "Epoch 5/30\n",
            "235/235 [==============================] - 53s 224ms/step - loss: 0.6741 - accuracy: 0.5612 - val_loss: 0.6865 - val_accuracy: 0.5548\n",
            "Epoch 6/30\n",
            "235/235 [==============================] - 53s 224ms/step - loss: 0.6630 - accuracy: 0.5787 - val_loss: 0.6829 - val_accuracy: 0.5742\n",
            "Epoch 7/30\n",
            "235/235 [==============================] - 54s 229ms/step - loss: 0.6491 - accuracy: 0.5977 - val_loss: 0.6949 - val_accuracy: 0.5686\n",
            "Epoch 8/30\n",
            "235/235 [==============================] - 55s 232ms/step - loss: 0.6358 - accuracy: 0.6147 - val_loss: 0.7032 - val_accuracy: 0.5906\n",
            "Epoch 9/30\n",
            "235/235 [==============================] - 55s 231ms/step - loss: 0.6160 - accuracy: 0.6298 - val_loss: 0.6850 - val_accuracy: 0.6088\n",
            "Epoch 10/30\n",
            "235/235 [==============================] - 59s 248ms/step - loss: 0.5932 - accuracy: 0.6616 - val_loss: 0.6999 - val_accuracy: 0.6232\n",
            "Epoch 11/30\n",
            "235/235 [==============================] - 58s 247ms/step - loss: 0.5822 - accuracy: 0.6690 - val_loss: 0.6959 - val_accuracy: 0.6160\n",
            "Epoch 12/30\n",
            "235/235 [==============================] - 59s 247ms/step - loss: 0.5713 - accuracy: 0.6754 - val_loss: 0.7405 - val_accuracy: 0.6306\n",
            "Epoch 13/30\n",
            "235/235 [==============================] - 55s 231ms/step - loss: 0.5569 - accuracy: 0.6856 - val_loss: 0.7771 - val_accuracy: 0.6190\n",
            "Epoch 14/30\n",
            "235/235 [==============================] - 54s 226ms/step - loss: 0.5447 - accuracy: 0.7021 - val_loss: 0.7307 - val_accuracy: 0.6460\n",
            "Epoch 15/30\n",
            "235/235 [==============================] - 55s 230ms/step - loss: 0.5147 - accuracy: 0.7222 - val_loss: 0.7966 - val_accuracy: 0.6336\n",
            "Epoch 16/30\n",
            "235/235 [==============================] - 53s 222ms/step - loss: 0.4984 - accuracy: 0.7375 - val_loss: 0.8213 - val_accuracy: 0.6236\n",
            "Epoch 17/30\n",
            "235/235 [==============================] - 58s 246ms/step - loss: 0.4792 - accuracy: 0.7471 - val_loss: 0.8216 - val_accuracy: 0.6556\n",
            "Epoch 18/30\n",
            "235/235 [==============================] - 54s 228ms/step - loss: 0.4580 - accuracy: 0.7667 - val_loss: 0.8277 - val_accuracy: 0.6360\n",
            "Epoch 19/30\n",
            "235/235 [==============================] - 53s 221ms/step - loss: 0.4358 - accuracy: 0.7801 - val_loss: 0.9442 - val_accuracy: 0.6530\n",
            "Epoch 20/30\n",
            "235/235 [==============================] - 53s 223ms/step - loss: 0.3989 - accuracy: 0.8021 - val_loss: 1.0109 - val_accuracy: 0.6542\n",
            "Epoch 21/30\n",
            "235/235 [==============================] - 58s 243ms/step - loss: 0.4190 - accuracy: 0.7990 - val_loss: 0.9319 - val_accuracy: 0.6452\n",
            "Epoch 22/30\n",
            "235/235 [==============================] - 53s 225ms/step - loss: 0.4038 - accuracy: 0.8115 - val_loss: 1.0992 - val_accuracy: 0.6562\n",
            "Epoch 23/30\n",
            "235/235 [==============================] - 57s 242ms/step - loss: 0.3707 - accuracy: 0.8265 - val_loss: 1.0337 - val_accuracy: 0.6624\n",
            "Epoch 24/30\n",
            "235/235 [==============================] - 53s 226ms/step - loss: 0.3441 - accuracy: 0.8423 - val_loss: 1.1838 - val_accuracy: 0.6736\n",
            "Epoch 25/30\n",
            "235/235 [==============================] - 51s 216ms/step - loss: 0.3224 - accuracy: 0.8512 - val_loss: 1.3133 - val_accuracy: 0.6590\n",
            "Epoch 26/30\n",
            "235/235 [==============================] - 52s 219ms/step - loss: 0.2967 - accuracy: 0.8671 - val_loss: 1.2928 - val_accuracy: 0.6508\n",
            "Epoch 27/30\n",
            "235/235 [==============================] - 53s 222ms/step - loss: 0.2765 - accuracy: 0.8807 - val_loss: 1.2257 - val_accuracy: 0.6568\n",
            "Epoch 28/30\n",
            "235/235 [==============================] - 51s 214ms/step - loss: 0.2482 - accuracy: 0.8930 - val_loss: 1.4472 - val_accuracy: 0.6860\n",
            "Epoch 29/30\n",
            "235/235 [==============================] - 56s 236ms/step - loss: 0.2720 - accuracy: 0.8821 - val_loss: 1.6371 - val_accuracy: 0.6646\n",
            "Epoch 30/30\n",
            "235/235 [==============================] - 56s 236ms/step - loss: 0.2571 - accuracy: 0.8915 - val_loss: 1.3831 - val_accuracy: 0.6784\n"
          ]
        }
      ]
    },
    {
      "cell_type": "code",
      "source": [
        "model_history.history.keys()"
      ],
      "metadata": {
        "colab": {
          "base_uri": "https://localhost:8080/"
        },
        "id": "Qehinjd3hg8m",
        "outputId": "c66bbe0f-41b4-460a-9b2b-ce7cf752d50c"
      },
      "execution_count": 57,
      "outputs": [
        {
          "output_type": "execute_result",
          "data": {
            "text/plain": [
              "dict_keys(['loss', 'accuracy', 'val_loss', 'val_accuracy'])"
            ]
          },
          "metadata": {},
          "execution_count": 57
        }
      ]
    },
    {
      "cell_type": "code",
      "source": [
        "import matplotlib.pyplot as plt\n",
        "fig=plt.figure(figsize=(18,4))\n",
        "plt.subplot(1,2,1)\n",
        "plt.plot(model_history.history[\"accuracy\"],'o-')\n",
        "\n",
        "plt.plot(model_history.history[\"val_accuracy\"],'o-')\n",
        "plt.xlabel(\"Epochs\")\n",
        "plt.ylabel(\"Accuracy\")\n",
        "plt.title(\"Accuracy\")\n",
        "plt.legend(['train', 'validation'], loc='upper left')\n",
        "\n",
        "plt.subplot(1,2,2)\n",
        "plt.plot(model_history.history[\"loss\"],'o-')\n",
        "plt.plot(model_history.history[\"val_loss\"],'o-')\n",
        "plt.xlabel(\"Epochs\")\n",
        "plt.ylabel(\"Accuracy\")\n",
        "plt.title(\"Loss\")\n",
        "plt.legend(['train', 'validation'], loc='upper left')\n",
        "plt.show()"
      ],
      "metadata": {
        "colab": {
          "base_uri": "https://localhost:8080/",
          "height": 307
        },
        "id": "P-y3_3xX1gdD",
        "outputId": "bc28367c-8f38-4716-bc59-e47f3d7cbb30"
      },
      "execution_count": 66,
      "outputs": [
        {
          "output_type": "display_data",
          "data": {
            "text/plain": [
              "<Figure size 1800x400 with 2 Axes>"
            ],
            "image/png": "[encoded data removed]"
          },
          "metadata": {}
        }
      ]
    },
    {
      "cell_type": "code",
      "source": [
        "y_pred=cnn_model.predict(test_ds)"
      ],
      "metadata": {
        "colab": {
          "base_uri": "https://localhost:8080/"
        },
        "id": "YPbo9kNzlRMU",
        "outputId": "cba3dd63-1ba6-4426-c177-ad801928ff9f"
      },
      "execution_count": 62,
      "outputs": [
        {
          "output_type": "stream",
          "name": "stdout",
          "text": [
            "79/79 [==============================] - 8s 95ms/step\n"
          ]
        }
      ]
    },
    {
      "cell_type": "code",
      "source": [
        "y_pred = (y_pred > 0.5)\n",
        "y_pred.astype(int)"
      ],
      "metadata": {
        "id": "-i-F7bV3lfEL",
        "colab": {
          "base_uri": "https://localhost:8080/"
        },
        "outputId": "16fc5d4c-e717-4b25-edbb-00fe7fa95f70"
      },
      "execution_count": 63,
      "outputs": [
        {
          "output_type": "execute_result",
          "data": {
            "text/plain": [
              "array([[0],\n",
              "       [1],\n",
              "       [0],\n",
              "       ...,\n",
              "       [0],\n",
              "       [0],\n",
              "       [0]])"
            ]
          },
          "metadata": {},
          "execution_count": 63
        }
      ]
    },
    {
      "cell_type": "code",
      "source": [
        " cnn_model.evaluate(train_ds)"
      ],
      "metadata": {
        "colab": {
          "base_uri": "https://localhost:8080/"
        },
        "id": "HK0XNsLvRp4K",
        "outputId": "65ac3f8f-0c16-4e0a-950c-716ed338c9c9"
      },
      "execution_count": 64,
      "outputs": [
        {
          "output_type": "stream",
          "name": "stdout",
          "text": [
            "235/235 [==============================] - 22s 93ms/step - loss: 0.1628 - accuracy: 0.9357\n"
          ]
        },
        {
          "output_type": "execute_result",
          "data": {
            "text/plain": [
              "[0.16283005475997925, 0.9356666803359985]"
            ]
          },
          "metadata": {},
          "execution_count": 64
        }
      ]
    },
    {
      "cell_type": "code",
      "source": [
        " cnn_model.evaluate(test_ds)"
      ],
      "metadata": {
        "colab": {
          "base_uri": "https://localhost:8080/"
        },
        "id": "zkIhibxfmHa5",
        "outputId": "978402de-25b8-4bd9-9d1a-8b2359347b0b"
      },
      "execution_count": 65,
      "outputs": [
        {
          "output_type": "stream",
          "name": "stdout",
          "text": [
            "79/79 [==============================] - 6s 64ms/step - loss: 1.3803 - accuracy: 0.6686\n"
          ]
        },
        {
          "output_type": "execute_result",
          "data": {
            "text/plain": [
              "[1.3802900314331055, 0.6686000227928162]"
            ]
          },
          "metadata": {},
          "execution_count": 65
        }
      ]
    },
    {
      "cell_type": "code",
      "source": [
        "cnn_model.save('dog_vs_cats.h5')"
      ],
      "metadata": {
        "id": "jNy4O5d2bWm8"
      },
      "execution_count": 67,
      "outputs": []
    },
    {
      "cell_type": "code",
      "source": [
        "model = load_model(\"dog_vs_cats.h5\")"
      ],
      "metadata": {
        "id": "5Mza4L9abWpb"
      },
      "execution_count": 71,
      "outputs": []
    },
    {
      "cell_type": "code",
      "source": [
        "model.predict(test_ds)"
      ],
      "metadata": {
        "colab": {
          "base_uri": "https://localhost:8080/"
        },
        "id": "2aAqODXxbWsL",
        "outputId": "d159913b-503e-4760-c53a-bf8c9a44bedb"
      },
      "execution_count": 72,
      "outputs": [
        {
          "output_type": "stream",
          "name": "stdout",
          "text": [
            "79/79 [==============================] - 8s 85ms/step\n"
          ]
        },
        {
          "output_type": "execute_result",
          "data": {
            "text/plain": [
              "array([[0.7651834 ],\n",
              "       [0.04839155],\n",
              "       [0.9712225 ],\n",
              "       ...,\n",
              "       [0.06280303],\n",
              "       [0.29398337],\n",
              "       [0.1259704 ]], dtype=float32)"
            ]
          },
          "metadata": {},
          "execution_count": 72
        }
      ]
    },
    {
      "cell_type": "code",
      "source": [
        "model.evaluate(test_ds)"
      ],
      "metadata": {
        "colab": {
          "base_uri": "https://localhost:8080/"
        },
        "id": "ZExTkDsJbWub",
        "outputId": "f0940cae-b6e0-4229-9c24-3acb81268494"
      },
      "execution_count": 73,
      "outputs": [
        {
          "output_type": "stream",
          "name": "stdout",
          "text": [
            "79/79 [==============================] - 6s 68ms/step - loss: 1.3803 - accuracy: 0.6686\n"
          ]
        },
        {
          "output_type": "execute_result",
          "data": {
            "text/plain": [
              "[1.3802900314331055, 0.6686000227928162]"
            ]
          },
          "metadata": {},
          "execution_count": 73
        }
      ]
    }
  ]
}