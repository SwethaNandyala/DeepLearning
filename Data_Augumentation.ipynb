{
  "nbformat": 4,
  "nbformat_minor": 0,
  "metadata": {
    "colab": {
      "provenance": [],
      "gpuType": "T4",
      "authorship_tag": "ABX9TyO8ZliUs/vQSEj5D901MWSt",
      "include_colab_link": true
    },
    "kernelspec": {
      "name": "python3",
      "display_name": "Python 3"
    },
    "language_info": {
      "name": "python"
    },
    "accelerator": "GPU"
  },
  "cells": [
    {
      "cell_type": "markdown",
      "metadata": {
        "id": "view-in-github",
        "colab_type": "text"
      },
      "source": [
        "<a href=\"https://colab.research.google.com/github/SwethaNandyala/DeepLearning/blob/main/Data_Augumentation.ipynb\" target=\"_parent\"><img src=\"https://colab.research.google.com/assets/colab-badge.svg\" alt=\"Open In Colab\"/></a>"
      ]
    },
    {
      "cell_type": "code",
      "execution_count": 2,
      "metadata": {
        "id": "PDO_xFx5wL_8"
      },
      "outputs": [],
      "source": [
        "#!pip install kaggle"
      ]
    },
    {
      "cell_type": "code",
      "source": [
        "from google.colab import drive\n",
        "drive.mount('/content/drive')"
      ],
      "metadata": {
        "colab": {
          "base_uri": "https://localhost:8080/"
        },
        "id": "at5VLytSwOxt",
        "outputId": "2094754a-9574-417f-8d9e-7b07daec0c05"
      },
      "execution_count": 3,
      "outputs": [
        {
          "output_type": "stream",
          "name": "stdout",
          "text": [
            "Mounted at /content/drive\n"
          ]
        }
      ]
    },
    {
      "cell_type": "code",
      "source": [
        "!mkdir ~/.kaggle\n",
        "\n",
        "!cp /content/drive/MyDrive/kaggle.json ~/.kaggle/kaggle.json\n",
        "! chmod 600 ~/.kaggle/kaggle.json"
      ],
      "metadata": {
        "id": "BRk6z48bwO0L"
      },
      "execution_count": 4,
      "outputs": []
    },
    {
      "cell_type": "code",
      "source": [
        "! kaggle datasets download -d salader/dogs-vs-cats"
      ],
      "metadata": {
        "colab": {
          "base_uri": "https://localhost:8080/"
        },
        "id": "dH-fyi_FwO5W",
        "outputId": "a461952f-cc7c-4610-c6e9-1b44885ef78f"
      },
      "execution_count": 5,
      "outputs": [
        {
          "output_type": "stream",
          "name": "stdout",
          "text": [
            "Downloading dogs-vs-cats.zip to /content\n",
            "100% 1.06G/1.06G [00:29<00:00, 37.1MB/s]\n",
            "100% 1.06G/1.06G [00:29<00:00, 38.6MB/s]\n"
          ]
        }
      ]
    },
    {
      "cell_type": "code",
      "source": [
        "from zipfile import ZipFile\n",
        "with ZipFile(\"/content/dogs-vs-cats.zip\",'r')as zipobj:\n",
        "  zipobj.extractall('/content/dogs-vs-cats')"
      ],
      "metadata": {
        "id": "whgrKOoVwO71"
      },
      "execution_count": 6,
      "outputs": []
    },
    {
      "cell_type": "code",
      "source": [
        "from keras.models import Sequential\n",
        "from keras.layers import Dense,Conv2D,MaxPooling2D,Flatten\n",
        "from keras.optimizers import Adam"
      ],
      "metadata": {
        "id": "vzJVWo6twO-n"
      },
      "execution_count": 7,
      "outputs": []
    },
    {
      "cell_type": "code",
      "source": [
        "size = 256\n",
        "image_shape = (size,size,3)\n",
        "BATCH_SIZE = 32"
      ],
      "metadata": {
        "id": "373OQzeYwmkB"
      },
      "execution_count": 8,
      "outputs": []
    },
    {
      "cell_type": "code",
      "source": [
        "cnn = Sequential()\n",
        "\n",
        "cnn.add(Conv2D(filters=64,kernel_size=(3,3),activation='relu',kernel_initializer='he_uniform',padding='same',input_shape=image_shape))\n",
        "cnn.add(MaxPooling2D(pool_size=(2,2)))\n",
        "\n",
        "cnn.add(Conv2D(filters=32,kernel_size=(3,3),activation='relu',kernel_initializer='he_uniform',padding='same',input_shape=image_shape))\n",
        "cnn.add(MaxPooling2D(pool_size=(2,2)))\n",
        "\n",
        "cnn.add(Conv2D(filters=16,kernel_size=(3,3),activation='relu',kernel_initializer='he_uniform',padding='same',input_shape=image_shape))\n",
        "cnn.add(MaxPooling2D(pool_size=(2,2)))\n",
        "\n",
        "cnn.add(Flatten())\n",
        "\n",
        "cnn.add(Dense(units=64,activation='relu',kernel_initializer='he_uniform'))\n",
        "cnn.add(Dense(units=32,activation='relu',kernel_initializer='he_uniform'))\n",
        "cnn.add(Dense(units=1,activation='sigmoid',kernel_initializer='glorot_uniform'))\n",
        "\n",
        "cnn.summary()"
      ],
      "metadata": {
        "colab": {
          "base_uri": "https://localhost:8080/"
        },
        "id": "L2WZKqSywn24",
        "outputId": "6278874e-a6bb-4bdb-991e-7cc9bad9229b"
      },
      "execution_count": 9,
      "outputs": [
        {
          "output_type": "stream",
          "name": "stdout",
          "text": [
            "Model: \"sequential\"\n",
            "_________________________________________________________________\n",
            " Layer (type)                Output Shape              Param #   \n",
            "=================================================================\n",
            " conv2d (Conv2D)             (None, 256, 256, 32)      896       \n",
            "                                                                 \n",
            " max_pooling2d (MaxPooling2D  (None, 128, 128, 32)     0         \n",
            " )                                                               \n",
            "                                                                 \n",
            " conv2d_1 (Conv2D)           (None, 128, 128, 32)      9248      \n",
            "                                                                 \n",
            " max_pooling2d_1 (MaxPooling  (None, 64, 64, 32)       0         \n",
            " 2D)                                                             \n",
            "                                                                 \n",
            " conv2d_2 (Conv2D)           (None, 64, 64, 16)        4624      \n",
            "                                                                 \n",
            " max_pooling2d_2 (MaxPooling  (None, 32, 32, 16)       0         \n",
            " 2D)                                                             \n",
            "                                                                 \n",
            " flatten (Flatten)           (None, 16384)             0         \n",
            "                                                                 \n",
            " dense (Dense)               (None, 64)                1048640   \n",
            "                                                                 \n",
            " dense_1 (Dense)             (None, 32)                2080      \n",
            "                                                                 \n",
            " dense_2 (Dense)             (None, 1)                 33        \n",
            "                                                                 \n",
            "=================================================================\n",
            "Total params: 1,065,521\n",
            "Trainable params: 1,065,521\n",
            "Non-trainable params: 0\n",
            "_________________________________________________________________\n"
          ]
        }
      ]
    },
    {
      "cell_type": "code",
      "source": [
        "opt = Adam(learning_rate=0.001)\n",
        "cnn.compile(optimizer=opt,metrics=['accuracy'],loss='binary_crossentropy')"
      ],
      "metadata": {
        "id": "63ZrZzajwp_H"
      },
      "execution_count": 10,
      "outputs": []
    },
    {
      "cell_type": "code",
      "source": [
        "import numpy as np\n",
        "from keras.preprocessing.image import ImageDataGenerator"
      ],
      "metadata": {
        "id": "qCT1ErVfw1Xa"
      },
      "execution_count": 11,
      "outputs": []
    },
    {
      "cell_type": "code",
      "source": [
        "train_datagen = ImageDataGenerator(rescale=1.0/255,\n",
        "                                    rotation_range=45,\n",
        "                                    width_shift_range=0.2,\n",
        "                                    height_shift_range=0.2,\n",
        "                                    shear_range=0.2,\n",
        "                                    horizontal_flip=True,\n",
        "                                    vertical_flip=True,\n",
        "                                    fill_mode='nearest',\n",
        "                                    validation_split=0.20\n",
        "                                   )\n",
        "\n",
        "test_datagen = ImageDataGenerator(rescale=1.0/255)"
      ],
      "metadata": {
        "id": "vXZW9bxrwtCy"
      },
      "execution_count": 12,
      "outputs": []
    },
    {
      "cell_type": "code",
      "source": [
        "train_data = train_datagen.flow_from_directory(directory= '/content/dogs-vs-cats/train',\n",
        "                                                target_size=(256,256),\n",
        "                                                color_mode='rgb',\n",
        "                                                class_mode='binary',\n",
        "                                                batch_size=BATCH_SIZE,\n",
        "                                                subset = \"training\"\n",
        "                                              )\n",
        "valid_data = train_datagen.flow_from_directory(directory='/content/dogs-vs-cats/train',\n",
        "                                                target_size=(256,256),\n",
        "                                                color_mode='rgb',\n",
        "                                                class_mode='binary',\n",
        "                                                batch_size=BATCH_SIZE,\n",
        "                                                subset=\"validation\"\n",
        "                                              )\n",
        "\n",
        "test_data = train_datagen.flow_from_directory(directory='/content/dogs-vs-cats/test',\n",
        "                                                target_size=(256,256),\n",
        "                                                color_mode='rgb',\n",
        "                                                class_mode='binary',\n",
        "                                                batch_size=BATCH_SIZE,\n",
        "\n",
        "                                              )"
      ],
      "metadata": {
        "colab": {
          "base_uri": "https://localhost:8080/"
        },
        "id": "5TdhF57NwtFh",
        "outputId": "d094fdff-27bf-49b2-9482-56e339a40f67"
      },
      "execution_count": 13,
      "outputs": [
        {
          "output_type": "stream",
          "name": "stdout",
          "text": [
            "Found 16000 images belonging to 2 classes.\n",
            "Found 4000 images belonging to 2 classes.\n",
            "Found 5000 images belonging to 2 classes.\n"
          ]
        }
      ]
    },
    {
      "cell_type": "code",
      "source": [
        "cnn.fit_generator(train_data, steps_per_epoch=16000//32,\n",
        "    epochs=50,\n",
        "    verbose=1,\n",
        "    validation_data=valid_data,\n",
        "    validation_steps=4000//32)"
      ],
      "metadata": {
        "colab": {
          "base_uri": "https://localhost:8080/"
        },
        "id": "XWLSggsnwtJU",
        "outputId": "7693390b-adb5-410b-d259-7daa458e25b0"
      },
      "execution_count": 14,
      "outputs": [
        {
          "metadata": {
            "tags": null
          },
          "name": "stderr",
          "output_type": "stream",
          "text": [
            "<ipython-input-14-892923ba86ae>:1: UserWarning: `Model.fit_generator` is deprecated and will be removed in a future version. Please use `Model.fit`, which supports generators.\n",
            "  cnn.fit_generator(train_data, steps_per_epoch=16000//32,\n"
          ]
        },
        {
          "output_type": "stream",
          "name": "stdout",
          "text": [
            "Epoch 1/50\n",
            "500/500 [==============================] - 395s 767ms/step - loss: 0.6783 - accuracy: 0.5683 - val_loss: 0.6484 - val_accuracy: 0.6255\n",
            "Epoch 2/50\n",
            "500/500 [==============================] - 384s 768ms/step - loss: 0.6261 - accuracy: 0.6442 - val_loss: 0.5860 - val_accuracy: 0.6830\n",
            "Epoch 3/50\n",
            "500/500 [==============================] - 371s 742ms/step - loss: 0.5854 - accuracy: 0.6898 - val_loss: 0.5517 - val_accuracy: 0.7155\n",
            "Epoch 4/50\n",
            "500/500 [==============================] - 368s 737ms/step - loss: 0.5554 - accuracy: 0.7153 - val_loss: 0.5477 - val_accuracy: 0.7200\n",
            "Epoch 5/50\n",
            "500/500 [==============================] - 379s 759ms/step - loss: 0.5434 - accuracy: 0.7208 - val_loss: 0.5374 - val_accuracy: 0.7270\n",
            "Epoch 6/50\n",
            "500/500 [==============================] - 368s 736ms/step - loss: 0.5356 - accuracy: 0.7311 - val_loss: 0.5173 - val_accuracy: 0.7442\n",
            "Epoch 7/50\n",
            "500/500 [==============================] - 369s 738ms/step - loss: 0.5280 - accuracy: 0.7357 - val_loss: 0.5208 - val_accuracy: 0.7347\n",
            "Epoch 8/50\n",
            "500/500 [==============================] - 367s 735ms/step - loss: 0.5156 - accuracy: 0.7456 - val_loss: 0.5505 - val_accuracy: 0.7255\n",
            "Epoch 9/50\n",
            "500/500 [==============================] - 366s 733ms/step - loss: 0.5136 - accuracy: 0.7485 - val_loss: 0.5386 - val_accuracy: 0.7272\n",
            "Epoch 10/50\n",
            "500/500 [==============================] - 364s 728ms/step - loss: 0.5027 - accuracy: 0.7561 - val_loss: 0.5370 - val_accuracy: 0.7287\n",
            "Epoch 11/50\n",
            "500/500 [==============================] - 375s 751ms/step - loss: 0.4937 - accuracy: 0.7613 - val_loss: 0.4943 - val_accuracy: 0.7657\n",
            "Epoch 12/50\n",
            "500/500 [==============================] - 368s 735ms/step - loss: 0.4897 - accuracy: 0.7629 - val_loss: 0.4928 - val_accuracy: 0.7582\n",
            "Epoch 13/50\n",
            "500/500 [==============================] - 368s 735ms/step - loss: 0.4840 - accuracy: 0.7665 - val_loss: 0.4639 - val_accuracy: 0.7837\n",
            "Epoch 14/50\n",
            "500/500 [==============================] - 377s 753ms/step - loss: 0.4769 - accuracy: 0.7719 - val_loss: 0.4766 - val_accuracy: 0.7713\n",
            "Epoch 15/50\n",
            "500/500 [==============================] - 365s 730ms/step - loss: 0.4654 - accuracy: 0.7795 - val_loss: 0.4639 - val_accuracy: 0.7847\n",
            "Epoch 16/50\n",
            "500/500 [==============================] - 364s 729ms/step - loss: 0.4622 - accuracy: 0.7843 - val_loss: 0.4637 - val_accuracy: 0.7862\n",
            "Epoch 17/50\n",
            "500/500 [==============================] - 366s 732ms/step - loss: 0.4617 - accuracy: 0.7791 - val_loss: 0.4590 - val_accuracy: 0.7865\n",
            "Epoch 18/50\n",
            "500/500 [==============================] - 363s 727ms/step - loss: 0.4583 - accuracy: 0.7842 - val_loss: 0.4741 - val_accuracy: 0.7780\n",
            "Epoch 19/50\n",
            "500/500 [==============================] - 363s 727ms/step - loss: 0.4526 - accuracy: 0.7886 - val_loss: 0.4487 - val_accuracy: 0.8023\n",
            "Epoch 20/50\n",
            "500/500 [==============================] - 366s 733ms/step - loss: 0.4442 - accuracy: 0.7915 - val_loss: 0.4684 - val_accuracy: 0.7860\n",
            "Epoch 21/50\n",
            "500/500 [==============================] - 364s 728ms/step - loss: 0.4412 - accuracy: 0.7956 - val_loss: 0.4676 - val_accuracy: 0.7812\n",
            "Epoch 22/50\n",
            "500/500 [==============================] - 369s 738ms/step - loss: 0.4365 - accuracy: 0.7974 - val_loss: 0.4566 - val_accuracy: 0.7918\n",
            "Epoch 23/50\n",
            "500/500 [==============================] - 370s 739ms/step - loss: 0.4352 - accuracy: 0.7973 - val_loss: 0.4718 - val_accuracy: 0.7887\n",
            "Epoch 24/50\n",
            "500/500 [==============================] - 368s 737ms/step - loss: 0.4332 - accuracy: 0.7999 - val_loss: 0.4367 - val_accuracy: 0.7985\n",
            "Epoch 25/50\n",
            "500/500 [==============================] - 379s 758ms/step - loss: 0.4187 - accuracy: 0.8069 - val_loss: 0.4159 - val_accuracy: 0.8062\n",
            "Epoch 26/50\n",
            "500/500 [==============================] - 368s 737ms/step - loss: 0.4156 - accuracy: 0.8115 - val_loss: 0.4422 - val_accuracy: 0.7925\n",
            "Epoch 27/50\n",
            "500/500 [==============================] - 375s 751ms/step - loss: 0.4214 - accuracy: 0.8106 - val_loss: 0.4233 - val_accuracy: 0.8102\n",
            "Epoch 28/50\n",
            "500/500 [==============================] - 386s 771ms/step - loss: 0.4094 - accuracy: 0.8148 - val_loss: 0.4327 - val_accuracy: 0.8070\n",
            "Epoch 29/50\n",
            "500/500 [==============================] - 367s 734ms/step - loss: 0.4081 - accuracy: 0.8118 - val_loss: 0.3963 - val_accuracy: 0.8223\n",
            "Epoch 30/50\n",
            "500/500 [==============================] - 377s 754ms/step - loss: 0.4002 - accuracy: 0.8219 - val_loss: 0.4391 - val_accuracy: 0.8075\n",
            "Epoch 31/50\n",
            "500/500 [==============================] - 363s 727ms/step - loss: 0.4090 - accuracy: 0.8136 - val_loss: 0.4095 - val_accuracy: 0.8160\n",
            "Epoch 32/50\n",
            "500/500 [==============================] - 364s 728ms/step - loss: 0.3956 - accuracy: 0.8207 - val_loss: 0.4120 - val_accuracy: 0.8145\n",
            "Epoch 33/50\n",
            "500/500 [==============================] - 366s 732ms/step - loss: 0.3949 - accuracy: 0.8230 - val_loss: 0.4036 - val_accuracy: 0.8223\n",
            "Epoch 34/50\n",
            "500/500 [==============================] - 375s 750ms/step - loss: 0.3968 - accuracy: 0.8217 - val_loss: 0.4108 - val_accuracy: 0.8227\n",
            "Epoch 35/50\n",
            "500/500 [==============================] - 371s 742ms/step - loss: 0.3900 - accuracy: 0.8245 - val_loss: 0.3931 - val_accuracy: 0.8270\n",
            "Epoch 36/50\n",
            "500/500 [==============================] - 363s 726ms/step - loss: 0.3861 - accuracy: 0.8273 - val_loss: 0.3997 - val_accuracy: 0.8192\n",
            "Epoch 37/50\n",
            "500/500 [==============================] - 365s 731ms/step - loss: 0.3900 - accuracy: 0.8288 - val_loss: 0.4231 - val_accuracy: 0.8135\n",
            "Epoch 38/50\n",
            "500/500 [==============================] - 366s 733ms/step - loss: 0.3868 - accuracy: 0.8274 - val_loss: 0.3817 - val_accuracy: 0.8338\n",
            "Epoch 39/50\n",
            "500/500 [==============================] - 378s 755ms/step - loss: 0.3807 - accuracy: 0.8284 - val_loss: 0.3880 - val_accuracy: 0.8198\n",
            "Epoch 40/50\n",
            "500/500 [==============================] - 351s 702ms/step - loss: 0.3807 - accuracy: 0.8309 - val_loss: 0.3784 - val_accuracy: 0.8407\n",
            "Epoch 41/50\n",
            "500/500 [==============================] - 351s 702ms/step - loss: 0.3795 - accuracy: 0.8323 - val_loss: 0.3748 - val_accuracy: 0.8295\n",
            "Epoch 42/50\n",
            "500/500 [==============================] - 355s 711ms/step - loss: 0.3789 - accuracy: 0.8294 - val_loss: 0.3975 - val_accuracy: 0.8165\n",
            "Epoch 43/50\n",
            "500/500 [==============================] - 353s 706ms/step - loss: 0.3719 - accuracy: 0.8379 - val_loss: 0.3816 - val_accuracy: 0.8330\n",
            "Epoch 44/50\n",
            "500/500 [==============================] - 351s 702ms/step - loss: 0.3718 - accuracy: 0.8348 - val_loss: 0.3853 - val_accuracy: 0.8372\n",
            "Epoch 45/50\n",
            "500/500 [==============================] - 350s 701ms/step - loss: 0.3687 - accuracy: 0.8352 - val_loss: 0.3869 - val_accuracy: 0.8307\n",
            "Epoch 46/50\n",
            "500/500 [==============================] - 351s 702ms/step - loss: 0.3731 - accuracy: 0.8355 - val_loss: 0.3817 - val_accuracy: 0.8338\n",
            "Epoch 47/50\n",
            "500/500 [==============================] - 351s 703ms/step - loss: 0.3628 - accuracy: 0.8382 - val_loss: 0.5740 - val_accuracy: 0.7607\n",
            "Epoch 48/50\n",
            "500/500 [==============================] - 352s 705ms/step - loss: 0.3640 - accuracy: 0.8382 - val_loss: 0.3829 - val_accuracy: 0.8305\n",
            "Epoch 49/50\n",
            "500/500 [==============================] - 354s 708ms/step - loss: 0.3617 - accuracy: 0.8428 - val_loss: 0.3690 - val_accuracy: 0.8395\n",
            "Epoch 50/50\n",
            "500/500 [==============================] - 356s 712ms/step - loss: 0.3608 - accuracy: 0.8396 - val_loss: 0.3593 - val_accuracy: 0.8418\n"
          ]
        },
        {
          "output_type": "execute_result",
          "data": {
            "text/plain": [
              "<keras.callbacks.History at 0x7f87f00091e0>"
            ]
          },
          "metadata": {},
          "execution_count": 14
        }
      ]
    },
    {
      "cell_type": "code",
      "source": [],
      "metadata": {
        "id": "iSTfbsEpwtMG"
      },
      "execution_count": 1,
      "outputs": []
    },
    {
      "cell_type": "code",
      "source": [],
      "metadata": {
        "id": "X-EdvOqkAuaU"
      },
      "execution_count": null,
      "outputs": []
    }
  ]
}